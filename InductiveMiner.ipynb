{
 "cells": [
  {
   "cell_type": "code",
   "execution_count": 1,
   "metadata": {},
   "outputs": [],
   "source": [
    "import numpy as np\n",
    "from collections import deque"
   ]
  },
  {
   "cell_type": "code",
   "execution_count": 93,
   "metadata": {},
   "outputs": [],
   "source": [
    "#L = ['acba','eifedb','id','iknmlkc','nc','mk','flk']\n",
    "L = ['abcn','acbn','aden','adeftden']\n",
    "#L =['a','a','a']"
   ]
  },
  {
   "cell_type": "code",
   "execution_count": 94,
   "metadata": {},
   "outputs": [],
   "source": [
    "vertexs = []\n",
    "for item in L:\n",
    "    for s in item:\n",
    "        if (s in vertexs) == False:\n",
    "            vertexs.append(s)"
   ]
  },
  {
   "cell_type": "code",
   "execution_count": 95,
   "metadata": {},
   "outputs": [
    {
     "data": {
      "text/plain": [
       "['a', 'b', 'c', 'n', 'd', 'e', 'f', 't']"
      ]
     },
     "execution_count": 95,
     "metadata": {},
     "output_type": "execute_result"
    }
   ],
   "source": [
    "vertexs"
   ]
  },
  {
   "cell_type": "code",
   "execution_count": 96,
   "metadata": {},
   "outputs": [],
   "source": [
    "len_graph = len(vertexs)"
   ]
  },
  {
   "cell_type": "code",
   "execution_count": 97,
   "metadata": {},
   "outputs": [],
   "source": [
    "matrix = np.zeros((len_graph,len_graph))"
   ]
  },
  {
   "cell_type": "code",
   "execution_count": 98,
   "metadata": {},
   "outputs": [],
   "source": [
    "for item in L:\n",
    "    for i in range(len(item)-1):\n",
    "        v1 = vertexs.index(item[i])\n",
    "        v2 = vertexs.index(item[i+1])\n",
    "        matrix[v1,v2]=1"
   ]
  },
  {
   "cell_type": "code",
   "execution_count": 99,
   "metadata": {},
   "outputs": [
    {
     "data": {
      "text/plain": [
       "array([[0., 1., 1., 0., 1., 0., 0., 0.],\n",
       "       [0., 0., 1., 1., 0., 0., 0., 0.],\n",
       "       [0., 1., 0., 1., 0., 0., 0., 0.],\n",
       "       [0., 0., 0., 0., 0., 0., 0., 0.],\n",
       "       [0., 0., 0., 0., 0., 1., 0., 0.],\n",
       "       [0., 0., 0., 1., 0., 0., 1., 0.],\n",
       "       [0., 0., 0., 0., 0., 0., 0., 1.],\n",
       "       [0., 0., 0., 0., 1., 0., 0., 0.]])"
      ]
     },
     "execution_count": 99,
     "metadata": {},
     "output_type": "execute_result"
    }
   ],
   "source": [
    "matrix"
   ]
  },
  {
   "cell_type": "code",
   "execution_count": 71,
   "metadata": {},
   "outputs": [],
   "source": [
    "def UCC(matrix):\n",
    "    len_v = len(matrix)\n",
    "    cc = np.zeros(len_v)\n",
    "    tagged_v = np.zeros(len_v)\n",
    "    numCC = 0\n",
    "    for i in range(len(tagged_v)):\n",
    "        if tagged_v[i] == 0:\n",
    "            numCC += 1\n",
    "            q =deque()\n",
    "            q.append(i)\n",
    "            tagged_v[i] == 1 #tt\n",
    "            while len(q) != 0:\n",
    "                v = q.popleft()\n",
    "                cc[v]=numCC\n",
    "                for j in range(len_v):\n",
    "                    if (matrix[v,j]==1 or matrix[j,v]== 1 ) and (tagged_v[j] == 0):\n",
    "                        tagged_v[j] = 1\n",
    "                        q.append(j)\n",
    "                   \n",
    "    return cc\n",
    "                    \n",
    "                "
   ]
  },
  {
   "cell_type": "code",
   "execution_count": null,
   "metadata": {},
   "outputs": [],
   "source": []
  },
  {
   "cell_type": "code",
   "execution_count": 72,
   "metadata": {},
   "outputs": [],
   "source": [
    "def TOPOSORT(matrix):    \n",
    "    \n",
    "    len_v = len(matrix)\n",
    "    f = np.zeros(len_v)\n",
    "    tagged_v = np.zeros(len_v)\n",
    "    global curLabel\n",
    "    curLabel = len_v\n",
    "\n",
    "    def DFS_TOPO(matrix,s):\n",
    "        tagged_v[s]=1\n",
    "        for j in range(len_v):\n",
    "            if (matrix[s,j]==1)  and (tagged_v[j] == 0):\n",
    "                DFS_TOPO(matrix,j)\n",
    "        global curLabel\n",
    "        f[s]=curLabel\n",
    "        curLabel +=-1\n",
    "\n",
    "\n",
    "       \n",
    "    for i in range(len(tagged_v)):\n",
    "        if tagged_v[i] ==0:\n",
    "            DFS_TOPO(matrix,i)\n",
    "    fs=[]\n",
    "    for i,num in enumerate(f):\n",
    "        fs.append((num,i))\n",
    "    fs.sort()\n",
    "    return fs"
   ]
  },
  {
   "cell_type": "code",
   "execution_count": null,
   "metadata": {},
   "outputs": [],
   "source": []
  },
  {
   "cell_type": "code",
   "execution_count": 73,
   "metadata": {},
   "outputs": [],
   "source": [
    "def matrix_revers(matrix_n):\n",
    "    len_matrix = len(matrix_n)\n",
    "    #print('MR',len_matrix)\n",
    "    matrix_r =np.zeros((len_matrix,len_matrix))\n",
    "    for i in range(len_matrix):\n",
    "        matrix_r[i,i]=matrix_n[i,i]\n",
    "        for j in np.arange(i+1,len_matrix):\n",
    "            matrix_r[i,j]=matrix_n[j,i]\n",
    "            matrix_r[j,i]=matrix_n[i,j]\n",
    "    return matrix_r"
   ]
  },
  {
   "cell_type": "code",
   "execution_count": null,
   "metadata": {},
   "outputs": [],
   "source": []
  },
  {
   "cell_type": "code",
   "execution_count": 74,
   "metadata": {},
   "outputs": [],
   "source": [
    "def KOSARAjU(matrix_n):\n",
    "    len_v = len(matrix_n)\n",
    "    #print('KOS',len_v)\n",
    "    matrix_r = matrix_revers(matrix_n)\n",
    "    f = TOPOSORT(matrix_r)\n",
    "    tagged_v = np.zeros(len_v)\n",
    "    numSCC = 0\n",
    "    scc = np.zeros(len_v)\n",
    "    def DFS_SCC(matrix_n,s):\n",
    "        tagged_v[s] =1\n",
    "        scc[s] = numSCC\n",
    "        for j in range(len_v):\n",
    "            if (matrix_n[s,j]==1)  and (tagged_v[j] == 0):\n",
    "                DFS_SCC(matrix,j)   \n",
    "    for i in f:\n",
    "        v =  i[1]\n",
    "        if tagged_v[v] == 0:\n",
    "            numSCC +=1\n",
    "            DFS_SCC(matrix,v)\n",
    "    return scc"
   ]
  },
  {
   "cell_type": "code",
   "execution_count": 75,
   "metadata": {},
   "outputs": [],
   "source": [
    "def components(scc,matrix):\n",
    "    k = {}\n",
    "    l = {}\n",
    "    '''sequence = []\n",
    "    for i in range(len(vertexs)):\n",
    "        sequence.append((vertexs[i],int(scc[i])))\n",
    "        \n",
    "    \n",
    "    for i in np.arange(1,max(scc)+1):\n",
    "        temp = []\n",
    "        for j in range(len(sequence)):\n",
    "\n",
    "            if sequence[j][1] == i:\n",
    "                l[j]= int(i)\n",
    "                temp.append(j)\n",
    "        k[int(i)] = temp'''\n",
    "     \n",
    "    for i in range(int(max(scc))):\n",
    "        temp =[]\n",
    "        for j,cl in enumerate(scc):\n",
    "            if cl == i+1:\n",
    "                temp.append(j)\n",
    "                l[j]= int(i+1)\n",
    "        k[int(i+1)] = temp\n",
    "    \n",
    "    graph1 =[]\n",
    "    for i in np.arange(1,max(scc)+1):\n",
    "        In =[]\n",
    "        Out = []    \n",
    "        for v in k.get(i):\n",
    "            for j in range(len(matrix)):\n",
    "                if (matrix[v,j] == 1) and (j not in k.get(i)) and (l[j] not in Out):\n",
    "                    Out.append(l[j])\n",
    "                if matrix[j,v] == 1 and (j not in k.get(i)) and (l[j] not in In):\n",
    "                    In.append(l[j])\n",
    "\n",
    "        graph1.append([int(i),In,Out])\n",
    "        \n",
    "    \n",
    "    for component in graph1:\n",
    "        for i in range(2):\n",
    "            for c in component[i+1]:\n",
    "                for mass_b in graph1[c-1][i+1]:\n",
    "                    if (mass_b !=component[0]) and (mass_b not in component[i+1]):\n",
    "                        component[i+1].append(mass_b)\n",
    "    tagged_c = np.zeros(len(graph1))\n",
    "    seq =[]\n",
    "    for i in range(len(graph1)):\n",
    "        if tagged_c[int(i)] == 1:\n",
    "            continue\n",
    "        temp=[]\n",
    "        temp.append(i+1)\n",
    "        tagged_c[int(i)] = 1\n",
    "        for j in range(len(graph1)):\n",
    "            if i !=j:\n",
    "                if (i+1 not in graph1[j][1]) and (i+1 not in graph1[j][2]):\n",
    "                    temp.append(j+1)\n",
    "                    tagged_c[int(j)] = 1\n",
    "        seq.append(temp)\n",
    "    \n",
    "    \n",
    "    tt =[]\n",
    "    for component in seq:\n",
    "        temp =[]\n",
    "        for i in component:\n",
    "            temp.append(k[i])\n",
    "        tt.append(temp)\n",
    "    return tt"
   ]
  },
  {
   "cell_type": "code",
   "execution_count": 76,
   "metadata": {},
   "outputs": [],
   "source": [
    "def main(mass,z):\n",
    "    if len(mass)==1:\n",
    "        print(z,'\"'+str(mass[0])+'\"')\n",
    "    else:\n",
    "        Step2(mass,z)"
   ]
  },
  {
   "cell_type": "code",
   "execution_count": 104,
   "metadata": {},
   "outputs": [],
   "source": [
    "def Step2(mass,z):\n",
    "    new_matrix = np.zeros((len(mass),len(mass)))\n",
    "    for new_i,i in enumerate(mass):\n",
    "        for new_j,j in enumerate(mass):\n",
    "            new_matrix[new_i,new_j] = matrix[i,j]\n",
    "            \n",
    "    cc=UCC(new_matrix)\n",
    "    if max(cc) !=1:\n",
    "        print('A')\n",
    "    else:\n",
    "        #print(\"связанные\")\n",
    "        #print(len(new_matrix))\n",
    "        scc = KOSARAjU(new_matrix)\n",
    "        if max(scc)!=1:\n",
    "            znak.append('-')\n",
    "            z1 = len(znak)-1\n",
    "            print(z,len(znak)-1)\n",
    "            \n",
    "            tt = components(scc, new_matrix)\n",
    "            \n",
    "            for items in tt:\n",
    "                for item in items:\n",
    "                    for i in range(len(item)):\n",
    "                        item[i]=mass[item[i]]\n",
    "            z2 =len(znak)\n",
    "            for i in range(len(tt)):\n",
    "                if len(tt[i])==1:\n",
    "                    \n",
    "                    main(tt[i][0],z1)\n",
    "                else:\n",
    "                    znak.append('x')\n",
    "                    print(z,len(znak)-1)\n",
    "                    for j in range(len(tt[i])):\n",
    "                        \n",
    "                        main(tt[i][j],z2)\n",
    "                        \n",
    "        else:\n",
    "            new_matrix_r = np.zeros((len(mass),len(mass)))\n",
    "            for i in range(len(mass)):\n",
    "                for j in range(len(mass)):\n",
    "                    new_matrix_r[i,j]=(new_matrix[i,j]+1)%2\n",
    "            \n",
    "            cc=UCC(new_matrix_r)\n",
    "            if max(cc)!=1:\n",
    "                znak.append('^')\n",
    "                z3 =len(znak)-1\n",
    "                print(z,len(znak)-1)\n",
    "                cc_class =[]\n",
    "                for i in range(int(max(cc))):\n",
    "                    temp =[]\n",
    "                    for j,cl in enumerate(cc):\n",
    "                        if cl == i+1:\n",
    "                            temp.append(j)\n",
    "                            \n",
    "                    \n",
    "                    for p in range(len(temp)):\n",
    "                        temp[p]=mass[temp[p]]\n",
    "                        \n",
    "                    main(temp,z3)\n",
    "                    \n",
    "                    \n",
    "            else:\n",
    "                znak.append('@')\n",
    "                print(z,len(znak)-1)\n",
    "                temp = []\n",
    "                for i in mass:\n",
    "                    flag =0\n",
    "                    for j in range(len(matrix)):\n",
    "                        if (matrix[i,j]==1 or matrix[j,i]==1) and (j not in mass):\n",
    "                            temp.append(i)\n",
    "                            flag=1\n",
    "                            break\n",
    "                z4 =len(znak)-1\n",
    "                main(temp,z4)\n",
    "                main(list(set(mass)-set(temp)),z4)\n",
    "            \n",
    "        \n"
   ]
  },
  {
   "cell_type": "code",
   "execution_count": 105,
   "metadata": {},
   "outputs": [
    {
     "name": "stdout",
     "output_type": "stream",
     "text": [
      "0 0\n",
      "0 \"3\"\n",
      "0 1\n",
      "1 2\n",
      "2 3\n",
      "3 \"5\"\n",
      "3 \"4\"\n",
      "2 4\n",
      "4 \"7\"\n",
      "4 \"6\"\n",
      "1 5\n",
      "5 \"1\"\n",
      "5 \"2\"\n",
      "0 \"0\"\n"
     ]
    }
   ],
   "source": [
    "znak = []\n",
    "main([0,1,2,3,4,5,6,7],0)"
   ]
  },
  {
   "cell_type": "code",
   "execution_count": 102,
   "metadata": {},
   "outputs": [
    {
     "data": {
      "text/plain": [
       "['-', 'x', '@', '-', '-', '^']"
      ]
     },
     "execution_count": 102,
     "metadata": {},
     "output_type": "execute_result"
    }
   ],
   "source": [
    "znak"
   ]
  },
  {
   "cell_type": "code",
   "execution_count": 103,
   "metadata": {},
   "outputs": [
    {
     "data": {
      "text/plain": [
       "['a', 'b', 'c', 'n', 'd', 'e', 'f', 't']"
      ]
     },
     "execution_count": 103,
     "metadata": {},
     "output_type": "execute_result"
    }
   ],
   "source": [
    "vertexs"
   ]
  },
  {
   "cell_type": "code",
   "execution_count": 20,
   "metadata": {},
   "outputs": [
    {
     "data": {
      "text/plain": [
       "[2, 3, 5]"
      ]
     },
     "execution_count": 20,
     "metadata": {},
     "output_type": "execute_result"
    }
   ],
   "source": [
    "rrr = [1,2,3,4,5]\n",
    "rr = [1,4]\n",
    "list(set(rrr)-set(rr))"
   ]
  },
  {
   "cell_type": "code",
   "execution_count": 30,
   "metadata": {},
   "outputs": [],
   "source": [
    "scc =KOSARAjU(matrix)"
   ]
  },
  {
   "cell_type": "code",
   "execution_count": 40,
   "metadata": {},
   "outputs": [],
   "source": [
    "k = {}\n",
    "l = {}\n",
    "for i in range(int(max(scc))):\n",
    "        temp =[]\n",
    "        for j,cl in enumerate(scc):\n",
    "            if cl == i+1:\n",
    "                temp.append(j)\n",
    "                l[j]= int(i+1)\n",
    "        k[int(i+1)] = temp"
   ]
  },
  {
   "cell_type": "code",
   "execution_count": 41,
   "metadata": {},
   "outputs": [
    {
     "data": {
      "text/plain": [
       "{3: 1, 4: 2, 5: 2, 6: 2, 1: 3, 2: 3, 0: 4}"
      ]
     },
     "execution_count": 41,
     "metadata": {},
     "output_type": "execute_result"
    }
   ],
   "source": [
    "l"
   ]
  },
  {
   "cell_type": "code",
   "execution_count": 42,
   "metadata": {},
   "outputs": [
    {
     "data": {
      "text/plain": [
       "{1: [3], 2: [4, 5, 6], 3: [1, 2], 4: [0]}"
      ]
     },
     "execution_count": 42,
     "metadata": {},
     "output_type": "execute_result"
    }
   ],
   "source": [
    "k"
   ]
  },
  {
   "cell_type": "code",
   "execution_count": 35,
   "metadata": {},
   "outputs": [
    {
     "name": "stdout",
     "output_type": "stream",
     "text": [
      "('a', 4)\n",
      "('b', 3)\n",
      "('c', 3)\n",
      "('n', 1)\n",
      "('d', 2)\n",
      "('e', 2)\n",
      "('f', 2)\n"
     ]
    }
   ],
   "source": [
    "\n",
    "sequence = []\n",
    "for i in range(len(vertexs)):\n",
    "    sequence.append((vertexs[i],int(scc[i])))\n",
    "    print(sequence[i])"
   ]
  },
  {
   "cell_type": "code",
   "execution_count": 36,
   "metadata": {},
   "outputs": [
    {
     "data": {
      "text/plain": [
       "{1: [3], 2: [4, 5, 6], 3: [1, 2], 4: [0]}"
      ]
     },
     "execution_count": 36,
     "metadata": {},
     "output_type": "execute_result"
    }
   ],
   "source": [
    "k = {}\n",
    "l = {}\n",
    "for i in np.arange(1,max(scc)+1):\n",
    "    temp = []\n",
    "    for j in range(len(sequence)):\n",
    "        \n",
    "        if sequence[j][1] == i:\n",
    "            l[j]= int(i)\n",
    "            temp.append(j)\n",
    "    k[int(i)] = temp\n",
    "k   "
   ]
  },
  {
   "cell_type": "code",
   "execution_count": 26,
   "metadata": {},
   "outputs": [],
   "source": [
    "graph1 =[]\n",
    "for i in np.arange(1,max(scc)+1):\n",
    "    In =[]\n",
    "    Out = []    \n",
    "    for v in k.get(i):\n",
    "        for j in range(len(matrix)):\n",
    "            if (matrix[v,j] == 1) and (j not in k.get(i)) and (l[j] not in Out):\n",
    "                Out.append(l[j])\n",
    "            if matrix[j,v] == 1 and (j not in k.get(i)) and (l[j] not in In):\n",
    "                In.append(l[j])\n",
    "    \n",
    "    graph1.append([int(i),In,Out])              \n",
    "                \n",
    "            \n",
    "for component in graph1:\n",
    "    for i in range(2):\n",
    "        for c in component[i+1]:\n",
    "            for mass_b in graph1[c-1][i+1]:\n",
    "                if (mass_b !=component[0]) and (mass_b not in component[i+1]):\n",
    "                    component[i+1].append(mass_b)\n",
    "tagged_c = np.zeros(len(graph1))\n",
    "seq =[]\n",
    "for i in range(len(graph1)):\n",
    "    if tagged_c[int(i)] == 1:\n",
    "        continue\n",
    "    temp=[]\n",
    "    temp.append(i+1)\n",
    "    tagged_c[int(i)] = 1\n",
    "    for j in range(len(graph1)):\n",
    "        if i !=j:\n",
    "            if (i+1 not in graph1[j][1]) and (i+1 not in graph1[j][2]):\n",
    "                temp.append(j+1)\n",
    "                tagged_c[int(j)] = 1\n",
    "    seq.append(temp)\n",
    "\n",
    "\n",
    "    \n",
    "tt =[]\n",
    "for component in seq:\n",
    "    temp =[]\n",
    "    for i in component:\n",
    "        temp.append(k[i])\n",
    "    tt.append(temp)\n",
    "tt"
   ]
  },
  {
   "cell_type": "code",
   "execution_count": null,
   "metadata": {},
   "outputs": [],
   "source": []
  },
  {
   "cell_type": "code",
   "execution_count": null,
   "metadata": {},
   "outputs": [],
   "source": []
  },
  {
   "cell_type": "code",
   "execution_count": null,
   "metadata": {},
   "outputs": [],
   "source": []
  },
  {
   "cell_type": "code",
   "execution_count": 332,
   "metadata": {},
   "outputs": [
    {
     "data": {
      "text/plain": [
       "0"
      ]
     },
     "execution_count": 332,
     "metadata": {},
     "output_type": "execute_result"
    }
   ],
   "source": [
    "len(graph1[0][2])"
   ]
  },
  {
   "cell_type": "code",
   "execution_count": 333,
   "metadata": {},
   "outputs": [],
   "source": [
    "for i in range(0):\n",
    "    print(11)"
   ]
  },
  {
   "cell_type": "code",
   "execution_count": 334,
   "metadata": {},
   "outputs": [
    {
     "data": {
      "text/plain": [
       "[3]"
      ]
     },
     "execution_count": 334,
     "metadata": {},
     "output_type": "execute_result"
    }
   ],
   "source": [
    "k.get(1)"
   ]
  },
  {
   "cell_type": "code",
   "execution_count": 180,
   "metadata": {},
   "outputs": [
    {
     "name": "stdout",
     "output_type": "stream",
     "text": [
      "3\n",
      "4\n",
      "5\n",
      "6\n",
      "1\n",
      "2\n",
      "0\n"
     ]
    }
   ],
   "source": [
    "for i in np.arange(1,max(scc)+1):\n",
    "    In =[]\n",
    "    Out = []\n",
    "    for vs in k.get(i):\n",
    "        print(vs)"
   ]
  },
  {
   "cell_type": "code",
   "execution_count": 182,
   "metadata": {},
   "outputs": [
    {
     "name": "stdout",
     "output_type": "stream",
     "text": [
      "4\n",
      "5\n",
      "6\n"
     ]
    }
   ],
   "source": [
    "for vs in k.get(2):\n",
    "        print(vs)"
   ]
  },
  {
   "cell_type": "code",
   "execution_count": null,
   "metadata": {},
   "outputs": [],
   "source": []
  },
  {
   "cell_type": "code",
   "execution_count": null,
   "metadata": {},
   "outputs": [],
   "source": []
  },
  {
   "cell_type": "code",
   "execution_count": null,
   "metadata": {},
   "outputs": [],
   "source": []
  },
  {
   "cell_type": "code",
   "execution_count": null,
   "metadata": {},
   "outputs": [],
   "source": []
  },
  {
   "cell_type": "code",
   "execution_count": null,
   "metadata": {},
   "outputs": [],
   "source": []
  },
  {
   "cell_type": "code",
   "execution_count": 171,
   "metadata": {},
   "outputs": [],
   "source": [
    "xxx = []\n",
    "tagged_c = np.zeros(int(max(scc)+1))\n",
    "for i in np.arange(1,max(scc)+1):\n",
    "    if tagged_c[int(i)] == 1:\n",
    "        continue\n",
    "    temp=[]\n",
    "    temp.append(i)\n",
    "    tagged_c[int(i)] = 1\n",
    "    \n",
    "    for j in np.arange(i+1,max(scc)+1):\n",
    "        flag=0\n",
    "        for item1 in k.get(i):\n",
    "            for item2 in k.get(j):\n",
    "                if (matrix[item2,item1]==1 or matrix[item1,item2]==1):\n",
    "                    flag = 1\n",
    "                    break\n",
    "        if flag == 0 :\n",
    "            temp.append(j)\n",
    "            tagged_c[int(j)] = 1\n",
    "            \n",
    "    xxx.append(temp)\n",
    "    "
   ]
  },
  {
   "cell_type": "code",
   "execution_count": 172,
   "metadata": {},
   "outputs": [
    {
     "data": {
      "text/plain": [
       "[[1.0, 4.0], [2.0, 3.0]]"
      ]
     },
     "execution_count": 172,
     "metadata": {},
     "output_type": "execute_result"
    }
   ],
   "source": [
    "xxx"
   ]
  },
  {
   "cell_type": "code",
   "execution_count": 173,
   "metadata": {},
   "outputs": [],
   "source": [
    "ccc =[]\n",
    "for i in xxx:\n",
    "    temp = []\n",
    "    for j in i:\n",
    "        temp.append(k.get(j))\n",
    "    ccc.append(temp)"
   ]
  },
  {
   "cell_type": "code",
   "execution_count": 174,
   "metadata": {},
   "outputs": [
    {
     "data": {
      "text/plain": [
       "[0]"
      ]
     },
     "execution_count": 174,
     "metadata": {},
     "output_type": "execute_result"
    }
   ],
   "source": [
    "ccc[0][1]"
   ]
  },
  {
   "cell_type": "code",
   "execution_count": 175,
   "metadata": {},
   "outputs": [
    {
     "data": {
      "text/plain": [
       "{1.0: [3], 2.0: [4, 5, 6], 3.0: [1, 2], 4.0: [0]}"
      ]
     },
     "execution_count": 175,
     "metadata": {},
     "output_type": "execute_result"
    }
   ],
   "source": [
    "k\n"
   ]
  },
  {
   "cell_type": "code",
   "execution_count": null,
   "metadata": {},
   "outputs": [],
   "source": []
  },
  {
   "cell_type": "code",
   "execution_count": null,
   "metadata": {},
   "outputs": [],
   "source": []
  },
  {
   "cell_type": "code",
   "execution_count": null,
   "metadata": {},
   "outputs": [],
   "source": []
  },
  {
   "cell_type": "code",
   "execution_count": null,
   "metadata": {},
   "outputs": [],
   "source": []
  }
 ],
 "metadata": {
  "kernelspec": {
   "display_name": "Python 3",
   "language": "python",
   "name": "python3"
  },
  "language_info": {
   "codemirror_mode": {
    "name": "ipython",
    "version": 3
   },
   "file_extension": ".py",
   "mimetype": "text/x-python",
   "name": "python",
   "nbconvert_exporter": "python",
   "pygments_lexer": "ipython3",
   "version": "3.7.6"
  }
 },
 "nbformat": 4,
 "nbformat_minor": 4
}
