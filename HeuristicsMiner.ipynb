{
 "cells": [
  {
   "cell_type": "code",
   "execution_count": 1,
   "metadata": {},
   "outputs": [],
   "source": [
    "import numpy as np"
   ]
  },
  {
   "cell_type": "code",
   "execution_count": 2,
   "metadata": {},
   "outputs": [],
   "source": [
    "L = [('ab',5),('abcd',10),('acbe',10),('abe',1),('ace',1),('ade',10),('adde',2),('addde',1)]"
   ]
  },
  {
   "cell_type": "markdown",
   "metadata": {},
   "source": [
    "### Частота символа 'a'"
   ]
  },
  {
   "cell_type": "code",
   "execution_count": 3,
   "metadata": {},
   "outputs": [],
   "source": [
    "dict_b = {}\n",
    "lines =[]\n",
    "n_lines =[]\n",
    "for item in L:\n",
    "    lines.append(item[0])\n",
    "    n_lines.append(item[1])\n",
    "    for symb in item[0]:\n",
    "        dict_b[symb] = item[1] + dict_b.get(symb,0)"
   ]
  },
  {
   "cell_type": "code",
   "execution_count": 4,
   "metadata": {},
   "outputs": [
    {
     "data": {
      "text/plain": [
       "{'a': 40, 'b': 26, 'c': 21, 'd': 27, 'e': 25}"
      ]
     },
     "execution_count": 4,
     "metadata": {},
     "output_type": "execute_result"
    }
   ],
   "source": [
    "dict_b"
   ]
  },
  {
   "cell_type": "code",
   "execution_count": 5,
   "metadata": {},
   "outputs": [
    {
     "data": {
      "text/plain": [
       "['ab', 'abcd', 'acbe', 'abe', 'ace', 'ade', 'adde', 'addde']"
      ]
     },
     "execution_count": 5,
     "metadata": {},
     "output_type": "execute_result"
    }
   ],
   "source": [
    "lines"
   ]
  },
  {
   "cell_type": "markdown",
   "metadata": {},
   "source": [
    "### Частота 'ab' "
   ]
  },
  {
   "cell_type": "code",
   "execution_count": 6,
   "metadata": {},
   "outputs": [],
   "source": [
    "keys = dict_b.keys()"
   ]
  },
  {
   "cell_type": "code",
   "execution_count": 7,
   "metadata": {},
   "outputs": [],
   "source": [
    "ab_counts ={}\n",
    "for a in keys:\n",
    "    for b in keys:\n",
    "        ab = a+b\n",
    "        counts = 0 \n",
    "        for line,num in zip(lines,n_lines):\n",
    "            counts += line.count(ab)*num\n",
    "        ab_counts[ab] = counts\n",
    "    "
   ]
  },
  {
   "cell_type": "code",
   "execution_count": 8,
   "metadata": {},
   "outputs": [
    {
     "data": {
      "text/plain": [
       "{'aa': 0,\n",
       " 'ab': 16,\n",
       " 'ac': 11,\n",
       " 'ad': 13,\n",
       " 'ae': 0,\n",
       " 'ba': 0,\n",
       " 'bb': 0,\n",
       " 'bc': 10,\n",
       " 'bd': 0,\n",
       " 'be': 11,\n",
       " 'ca': 0,\n",
       " 'cb': 10,\n",
       " 'cc': 0,\n",
       " 'cd': 10,\n",
       " 'ce': 1,\n",
       " 'da': 0,\n",
       " 'db': 0,\n",
       " 'dc': 0,\n",
       " 'dd': 3,\n",
       " 'de': 13,\n",
       " 'ea': 0,\n",
       " 'eb': 0,\n",
       " 'ec': 0,\n",
       " 'ed': 0,\n",
       " 'ee': 0}"
      ]
     },
     "execution_count": 8,
     "metadata": {},
     "output_type": "execute_result"
    }
   ],
   "source": [
    "ab_counts"
   ]
  },
  {
   "cell_type": "markdown",
   "metadata": {},
   "source": [
    "### −оценка степени выраженности отношения «→»(которую также называют локальной метрикой): "
   ]
  },
  {
   "cell_type": "code",
   "execution_count": 9,
   "metadata": {},
   "outputs": [],
   "source": [
    "alb_counts ={}\n",
    "for a in keys:\n",
    "    for b in keys:\n",
    "        c = ab_counts.get(a+b)\n",
    "        if a==b:\n",
    "            alb_counts[a+b] = c/(c+1)\n",
    "        else:\n",
    "            d = ab_counts.get(b+a)\n",
    "            alb_counts[a+b] = (c-d)/(c+d+1)\n",
    "            "
   ]
  },
  {
   "cell_type": "code",
   "execution_count": 10,
   "metadata": {},
   "outputs": [
    {
     "data": {
      "text/plain": [
       "{'aa': 0.0,\n",
       " 'ab': 0.9411764705882353,\n",
       " 'ac': 0.9166666666666666,\n",
       " 'ad': 0.9285714285714286,\n",
       " 'ae': 0.0,\n",
       " 'ba': -0.9411764705882353,\n",
       " 'bb': 0.0,\n",
       " 'bc': 0.0,\n",
       " 'bd': 0.0,\n",
       " 'be': 0.9166666666666666,\n",
       " 'ca': -0.9166666666666666,\n",
       " 'cb': 0.0,\n",
       " 'cc': 0.0,\n",
       " 'cd': 0.9090909090909091,\n",
       " 'ce': 0.5,\n",
       " 'da': -0.9285714285714286,\n",
       " 'db': 0.0,\n",
       " 'dc': -0.9090909090909091,\n",
       " 'dd': 0.75,\n",
       " 'de': 0.9285714285714286,\n",
       " 'ea': 0.0,\n",
       " 'eb': -0.9166666666666666,\n",
       " 'ec': -0.5,\n",
       " 'ed': -0.9285714285714286,\n",
       " 'ee': 0.0}"
      ]
     },
     "execution_count": 10,
     "metadata": {},
     "output_type": "execute_result"
    }
   ],
   "source": [
    "alb_counts"
   ]
  },
  {
   "cell_type": "markdown",
   "metadata": {},
   "source": [
    "### 5 Оценка глобальной связи между действиями"
   ]
  },
  {
   "cell_type": "code",
   "execution_count": 11,
   "metadata": {},
   "outputs": [],
   "source": [
    "k = 0.8\n",
    "t_count ={}\n",
    "for ab in alb_counts.keys():\n",
    "    a = ab[0]\n",
    "    b = ab[1]\n",
    "    count = 0\n",
    "    for line,num in zip(lines,n_lines):\n",
    "        n_min =99\n",
    "        for i in range(len(line)):\n",
    "            if line[i] == a:\n",
    "                n = 99\n",
    "                for j in np.arange(i+1,len(line)):\n",
    "                    if line[j] == b:\n",
    "                        n = j-i-1\n",
    "                        break\n",
    "                if n< n_min: \n",
    "                    n_min = n\n",
    "        if n_min != 99:\n",
    "            count += (k**n_min) * num\n",
    "    \n",
    "    t_count[ab] = count"
   ]
  },
  {
   "cell_type": "code",
   "execution_count": 12,
   "metadata": {},
   "outputs": [
    {
     "data": {
      "text/plain": [
       "{'aa': 0,\n",
       " 'ab': 24.0,\n",
       " 'ac': 19.0,\n",
       " 'ad': 19.400000000000002,\n",
       " 'ae': 17.792,\n",
       " 'ba': 0,\n",
       " 'bb': 0,\n",
       " 'bc': 10.0,\n",
       " 'bd': 8.0,\n",
       " 'be': 11.0,\n",
       " 'ca': 0,\n",
       " 'cb': 10.0,\n",
       " 'cc': 0,\n",
       " 'cd': 10.0,\n",
       " 'ce': 9.0,\n",
       " 'da': 0,\n",
       " 'db': 0,\n",
       " 'dc': 0,\n",
       " 'dd': 3.0,\n",
       " 'de': 13.0,\n",
       " 'ea': 0,\n",
       " 'eb': 0,\n",
       " 'ec': 0,\n",
       " 'ed': 0,\n",
       " 'ee': 0}"
      ]
     },
     "execution_count": 12,
     "metadata": {},
     "output_type": "execute_result"
    }
   ],
   "source": [
    "t_count"
   ]
  },
  {
   "cell_type": "code",
   "execution_count": 13,
   "metadata": {},
   "outputs": [],
   "source": [
    "agb_count = {}\n",
    "for a in keys:\n",
    "    for b in keys:\n",
    "        agb_count[a+b] =  (t_count.get(a+b)-t_count.get(b+a))/(min(dict_b.get(a),dict_b.get(b)))"
   ]
  },
  {
   "cell_type": "code",
   "execution_count": 14,
   "metadata": {},
   "outputs": [
    {
     "data": {
      "text/plain": [
       "{'aa': 0.0,\n",
       " 'ab': 0.9230769230769231,\n",
       " 'ac': 0.9047619047619048,\n",
       " 'ad': 0.7185185185185186,\n",
       " 'ae': 0.7116800000000001,\n",
       " 'ba': -0.9230769230769231,\n",
       " 'bb': 0.0,\n",
       " 'bc': 0.0,\n",
       " 'bd': 0.3076923076923077,\n",
       " 'be': 0.44,\n",
       " 'ca': -0.9047619047619048,\n",
       " 'cb': 0.0,\n",
       " 'cc': 0.0,\n",
       " 'cd': 0.47619047619047616,\n",
       " 'ce': 0.42857142857142855,\n",
       " 'da': -0.7185185185185186,\n",
       " 'db': -0.3076923076923077,\n",
       " 'dc': -0.47619047619047616,\n",
       " 'dd': 0.0,\n",
       " 'de': 0.52,\n",
       " 'ea': -0.7116800000000001,\n",
       " 'eb': -0.44,\n",
       " 'ec': -0.42857142857142855,\n",
       " 'ed': -0.52,\n",
       " 'ee': 0.0}"
      ]
     },
     "execution_count": 14,
     "metadata": {},
     "output_type": "execute_result"
    }
   ],
   "source": [
    "agb_count"
   ]
  },
  {
   "cell_type": "markdown",
   "metadata": {},
   "source": [
    "### Вычисление степени зависимости (Dependency Score) "
   ]
  },
  {
   "cell_type": "code",
   "execution_count": 15,
   "metadata": {},
   "outputs": [],
   "source": [
    "DS_dict = {}\n",
    "M_dict = {}\n",
    "for a in keys:\n",
    "    maxM = 0\n",
    "    for b in keys:\n",
    "        ds = (alb_counts[a+b]**2 + agb_count[a+b]**2) / 2\n",
    "        DS_dict[a+b] = ds\n",
    "        if ds>maxM:\n",
    "            maxM = ds\n",
    "    M_dict[a] = maxM"
   ]
  },
  {
   "cell_type": "code",
   "execution_count": 16,
   "metadata": {},
   "outputs": [
    {
     "data": {
      "text/plain": [
       "{'aa': 0.0,\n",
       " 'ab': 0.8689420773530436,\n",
       " 'ac': 0.8294359410430838,\n",
       " 'ad': 0.6892568797066152,\n",
       " 'ae': 0.25324421120000007,\n",
       " 'ba': 0.8689420773530436,\n",
       " 'bb': 0.0,\n",
       " 'bc': 0.0,\n",
       " 'bd': 0.04733727810650888,\n",
       " 'be': 0.5169388888888888,\n",
       " 'ca': 0.8294359410430838,\n",
       " 'cb': 0.0,\n",
       " 'cc': 0.0,\n",
       " 'cd': 0.5266018253031239,\n",
       " 'ce': 0.21683673469387754,\n",
       " 'da': 0.6892568797066152,\n",
       " 'db': 0.04733727810650888,\n",
       " 'dc': 0.5266018253031239,\n",
       " 'dd': 0.28125,\n",
       " 'de': 0.5663224489795918,\n",
       " 'ea': 0.25324421120000007,\n",
       " 'eb': 0.5169388888888888,\n",
       " 'ec': 0.21683673469387754,\n",
       " 'ed': 0.5663224489795918,\n",
       " 'ee': 0.0}"
      ]
     },
     "execution_count": 16,
     "metadata": {},
     "output_type": "execute_result"
    }
   ],
   "source": [
    "DS_dict"
   ]
  },
  {
   "cell_type": "code",
   "execution_count": 17,
   "metadata": {},
   "outputs": [
    {
     "data": {
      "text/plain": [
       "{'a': 0.8689420773530436,\n",
       " 'b': 0.8689420773530436,\n",
       " 'c': 0.8294359410430838,\n",
       " 'd': 0.6892568797066152,\n",
       " 'e': 0.5663224489795918}"
      ]
     },
     "execution_count": 17,
     "metadata": {},
     "output_type": "execute_result"
    }
   ],
   "source": [
    "M_dict"
   ]
  },
  {
   "cell_type": "markdown",
   "metadata": {},
   "source": [
    "### Построение графа "
   ]
  },
  {
   "cell_type": "code",
   "execution_count": 24,
   "metadata": {},
   "outputs": [
    {
     "name": "stdout",
     "output_type": "stream",
     "text": [
      "aa False False False\n",
      "ab True True True\n",
      "ac True True True\n",
      "ad True True True\n",
      "ae False True False\n",
      "ba False False True\n",
      "bb False False False\n",
      "bc False False False\n",
      "bd False True False\n",
      "be True True True\n",
      "ca False False True\n",
      "cb False False False\n",
      "cc False False False\n",
      "cd True True True\n",
      "ce True True False\n",
      "da False False True\n",
      "db False False False\n",
      "dc False False True\n",
      "dd True False False\n",
      "de True True True\n",
      "ea False False False\n",
      "eb False False True\n",
      "ec False False False\n",
      "ed False False True\n",
      "ee False False False\n"
     ]
    }
   ],
   "source": [
    "graph_dict =[]\n",
    "t = 0.57\n",
    "for a in keys:\n",
    "    for b in keys:\n",
    "        print(a+b,(alb_counts[a+b]>0),(agb_count[a+b]>0),(DS_dict[a+b]>M_dict[a]*t))\n",
    "        if (alb_counts[a+b]>0)&(agb_count[a+b]>0)&(DS_dict[a+b]>M_dict[a]*t):\n",
    "            graph_dict.append(a+b)"
   ]
  },
  {
   "cell_type": "code",
   "execution_count": 25,
   "metadata": {},
   "outputs": [
    {
     "data": {
      "text/plain": [
       "['ab', 'ac', 'ad', 'be', 'cd', 'de']"
      ]
     },
     "execution_count": 25,
     "metadata": {},
     "output_type": "execute_result"
    }
   ],
   "source": [
    "graph_dict"
   ]
  },
  {
   "cell_type": "code",
   "execution_count": 26,
   "metadata": {},
   "outputs": [
    {
     "name": "stdout",
     "output_type": "stream",
     "text": [
      "digraph g{\n",
      "node [shape=plaintext]\n",
      "\ta->b[label=\"0.8689420773530436\"]\n",
      "\ta->c[label=\"0.8294359410430838\"]\n",
      "\ta->d[label=\"0.6892568797066152\"]\n",
      "\tb->e[label=\"0.5169388888888888\"]\n",
      "\tc->d[label=\"0.5266018253031239\"]\n",
      "\td->e[label=\"0.5663224489795918\"]\n",
      "}\n"
     ]
    }
   ],
   "source": [
    "print('digraph g{')\n",
    "print('node [shape=plaintext]')\n",
    "for ab in graph_dict:\n",
    "    print('\\t'+ab[0] +'->'+ab[1]+'[label=\"'+str(DS_dict[ab])+'\"]')\n",
    "print('}')"
   ]
  },
  {
   "cell_type": "markdown",
   "metadata": {},
   "source": [
    "## Оценка параллелизма"
   ]
  },
  {
   "cell_type": "code",
   "execution_count": 27,
   "metadata": {},
   "outputs": [],
   "source": [
    "p=0.7\n",
    "par ={}\n",
    "for i,item in enumerate(graph_dict):\n",
    "    for j in np.arange(i+1,len(graph_dict)):\n",
    "        if item[0] != graph_dict[j][0]:\n",
    "            break\n",
    "        a = item[0]\n",
    "        b = item[1]\n",
    "        c = graph_dict[j][1]\n",
    "        abc = (ab_counts[b+c]+ab_counts[c+b])/(ab_counts[a+b]+ab_counts[a+c]+1)\n",
    "        if abc>p:\n",
    "            par[b+c] = abc\n",
    "            "
   ]
  },
  {
   "cell_type": "code",
   "execution_count": 28,
   "metadata": {},
   "outputs": [
    {
     "data": {
      "text/plain": [
       "{'bc': 0.7142857142857143}"
      ]
     },
     "execution_count": 28,
     "metadata": {},
     "output_type": "execute_result"
    }
   ],
   "source": [
    "par"
   ]
  },
  {
   "cell_type": "code",
   "execution_count": 29,
   "metadata": {},
   "outputs": [
    {
     "name": "stdout",
     "output_type": "stream",
     "text": [
      "graph g {\n",
      "a;\n",
      "b;\n",
      "c;\n",
      "d;\n",
      "e;\n",
      "b--c[label=\"0.7142857142857143\"];\n",
      "c--b;\n",
      "}\n"
     ]
    }
   ],
   "source": [
    "print('graph g {')\n",
    "gr =[]\n",
    "for ab in graph_dict:\n",
    "    if gr.count(ab[0])==0:\n",
    "        gr.append(ab[0])\n",
    "        print(ab[0]+';')\n",
    "    if gr.count(ab[1])==0:\n",
    "        gr.append(ab[1])\n",
    "        print(ab[1]+';')\n",
    "for bc in par:\n",
    "    print(bc[0]+'--'+bc[1]+'[label=\"'+str(par.get(bc))+'\"];')\n",
    "    print(bc[1]+'--'+bc[0]+';')\n",
    "print('}')"
   ]
  },
  {
   "cell_type": "code",
   "execution_count": null,
   "metadata": {},
   "outputs": [],
   "source": []
  },
  {
   "cell_type": "code",
   "execution_count": null,
   "metadata": {},
   "outputs": [],
   "source": []
  }
 ],
 "metadata": {
  "kernelspec": {
   "display_name": "Python 3",
   "language": "python",
   "name": "python3"
  },
  "language_info": {
   "codemirror_mode": {
    "name": "ipython",
    "version": 3
   },
   "file_extension": ".py",
   "mimetype": "text/x-python",
   "name": "python",
   "nbconvert_exporter": "python",
   "pygments_lexer": "ipython3",
   "version": "3.7.6"
  }
 },
 "nbformat": 4,
 "nbformat_minor": 2
}
